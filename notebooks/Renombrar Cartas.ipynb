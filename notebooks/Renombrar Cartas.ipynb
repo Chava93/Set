{
 "cells": [
  {
   "cell_type": "markdown",
   "metadata": {},
   "source": [
    "# Renombrar nombres de imagenes "
   ]
  },
  {
   "cell_type": "code",
   "execution_count": 57,
   "metadata": {},
   "outputs": [],
   "source": [
    "import os\n",
    "from collections import defaultdict"
   ]
  },
  {
   "cell_type": "markdown",
   "metadata": {},
   "source": [
    "Parámetros"
   ]
  },
  {
   "cell_type": "code",
   "execution_count": 58,
   "metadata": {},
   "outputs": [],
   "source": [
    "prev_path = \"cartas_sin_clasificar/\" # Nombre de directorio con todas las cartas sin clasificar\n",
    "new_path = \"cartas_clasificadas/\" # Nombre del directorio donde se colocaran las cartas\n",
    "master_path = \"conjunto_cartas\" # Directorio de directorios con cartas clasificadas \n",
    "                                 # (ej rombo/IMG_6992.JPG)"
   ]
  },
  {
   "cell_type": "markdown",
   "metadata": {},
   "source": [
    "Diccionario que ayuda al renombre de las cartas  \n",
    "`{\n",
    "    caracteristica: {\n",
    "        categoria: nombre_renombre\n",
    "        }\n",
    " }`"
   ]
  },
  {
   "cell_type": "code",
   "execution_count": 59,
   "metadata": {},
   "outputs": [],
   "source": [
    "features = {\n",
    "    \"churro\": {\"forma\":\"churro\"},\n",
    "    \"ovalo\": {\"forma\":\"ovalo\"},\n",
    "    \"rombo\": {\"forma\":\"rombo\"},\n",
    "    \"uno\": {\"numero\":\"uno\"},\n",
    "    \"dos\": {\"numero\":\"dos\"},\n",
    "    \"tres\":{\"numero\":\"tres\"},\n",
    "    \"morado\":{\"color\":\"morado\"},\n",
    "    \"verde\":{\"color\":\"verde\"},\n",
    "    \"rojo\":{\"color\":\"rojo\"},\n",
    "    \"blanco\": {\"relleno\":\"blanco\"},\n",
    "    \"rayado\": {\"relleno\":\"rayado\"},\n",
    "    \"solido\": {\"relleno\":\"solido\"},\n",
    "}"
   ]
  },
  {
   "cell_type": "code",
   "execution_count": 60,
   "metadata": {},
   "outputs": [
    {
     "name": "stdout",
     "output_type": "stream",
     "text": [
      "Parsing directory:  blanco\n",
      "Parsing directory:  churro\n",
      "Parsing directory:  dos\n",
      "Parsing directory:  morado\n",
      "Parsing directory:  ovalo\n",
      "Parsing directory:  rayado\n",
      "Parsing directory:  rojo\n",
      "Parsing directory:  rombo\n",
      "Parsing directory:  solido\n",
      "Parsing directory:  tres\n",
      "Parsing directory:  uno\n",
      "Parsing directory:  verde\n"
     ]
    }
   ],
   "source": [
    "clasif = defaultdict(dict) # Contenedor para las caract. de las cartas\n",
    "for dcty in os.listdir(master_path):\n",
    "    print(\"Parsing directory: \",dcty)\n",
    "    feature = os.listdir('\\\\'.join([master_path,dcty]))\n",
    "    [clasif[x].update(features[dcty]) for x in feature];"
   ]
  },
  {
   "cell_type": "code",
   "execution_count": 61,
   "metadata": {},
   "outputs": [],
   "source": [
    "rename = lambda d: '-'.join([d[k] for k in [\"forma\",\"numero\",\"color\",\"relleno\"]])\n",
    "nombres = {x[0]:rename(x[1]) for x in clasif.items()}"
   ]
  },
  {
   "cell_type": "code",
   "execution_count": 62,
   "metadata": {},
   "outputs": [],
   "source": [
    "for card in os.listdir(prev_path): # Renombrar cartas con su nombre descriptivo\n",
    "    os.rename(prev_path + card, new_path+nombres[card]+'.JPG')"
   ]
  },
  {
   "cell_type": "code",
   "execution_count": null,
   "metadata": {},
   "outputs": [],
   "source": []
  },
  {
   "cell_type": "markdown",
   "metadata": {},
   "source": [
    "## Modelo\n",
    "**Objetivo**  \n",
    "1. Crear una función que tome el nombre de la fotografía y regrese un vector con sus características"
   ]
  },
  {
   "cell_type": "code",
   "execution_count": 63,
   "metadata": {},
   "outputs": [],
   "source": [
    "cartas = os.listdir(\"cartas_clasificadas/\")"
   ]
  },
  {
   "cell_type": "code",
   "execution_count": 71,
   "metadata": {},
   "outputs": [
    {
     "data": {
      "text/plain": [
       "['rombo-uno-verde-solido.JPG',\n",
       " 'rombo-uno-verde-rayado.JPG',\n",
       " 'rombo-uno-verde-blanco.JPG',\n",
       " 'rombo-uno-rojo-solido.JPG',\n",
       " 'rombo-uno-rojo-rayado.JPG',\n",
       " 'rombo-uno-rojo-blanco.JPG',\n",
       " 'rombo-uno-morado-solido.JPG',\n",
       " 'rombo-uno-morado-rayado.JPG',\n",
       " 'rombo-uno-morado-blanco.JPG',\n",
       " 'rombo-tres-verde-solido.JPG']"
      ]
     },
     "execution_count": 71,
     "metadata": {},
     "output_type": "execute_result"
    }
   ],
   "source": [
    "cartas[::-1][:10]"
   ]
  },
  {
   "cell_type": "code",
   "execution_count": null,
   "metadata": {},
   "outputs": [],
   "source": []
  }
 ],
 "metadata": {
  "kernelspec": {
   "display_name": "Python 3",
   "language": "python",
   "name": "python3"
  },
  "language_info": {
   "codemirror_mode": {
    "name": "ipython",
    "version": 3
   },
   "file_extension": ".py",
   "mimetype": "text/x-python",
   "name": "python",
   "nbconvert_exporter": "python",
   "pygments_lexer": "ipython3",
   "version": "3.7.0"
  }
 },
 "nbformat": 4,
 "nbformat_minor": 2
}
